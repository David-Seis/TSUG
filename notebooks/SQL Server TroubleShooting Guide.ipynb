{
    "cells": [
        {
            "attachments": {},
            "cell_type": "markdown",
            "metadata": {
                "azdata_cell_guid": "6e44eadc-d07b-4423-aaf9-904299a0fd47"
            },
            "source": [
                "# SQL Server Troubleshooting Guide \n",
                "\n",
                "## Tampa Bay SQL Server User Group (TSUG)\n",
                "\n",
                "Last Updated 02/21/2023"
            ]
        },
        {
            "attachments": {},
            "cell_type": "markdown",
            "metadata": {},
            "source": [
                "### Troubleshooting Process\n",
                "\n",
                "*Source - https://www.ciscopress.com/articles/article.asp?p=2999386&seqNum=5*\n",
                "\n",
                "General troubleshooting process steps are as follows:\n",
                "\n",
                "Step 1. Identify the symptoms of the problem.\n",
                "\n",
                "Step 2. Establish a theory of probable cause.\n",
                "\n",
                "Step 3. Investigate the theory to determine the cause.\n",
                "\n",
                "Step 4. Establish a plan of action to resolve the problem and implement the solution.\n",
                "\n",
                "Step 5. Verify full system functionality and, if applicable, implement preventive measures.\n",
                "\n",
                "Step 6. Document findings, actions, and outcomes."
            ]
        },
        {
            "attachments": {},
            "cell_type": "markdown",
            "metadata": {
                "azdata_cell_guid": "b6ec41c7-994f-48e2-bbfd-7840d43651f3"
            },
            "source": [
                "### SQL Server Instance Information and Status"
            ]
        },
        {
            "cell_type": "code",
            "execution_count": null,
            "metadata": {
                "azdata_cell_guid": "75fea9d8-8d79-464b-998e-29a5ff947b38",
                "language": "sql",
                "tags": []
            },
            "outputs": [],
            "source": [
                "/* Find running services on the server \n",
                "Source: https://learn.microsoft.com/en-us/sql/relational-databases/system-dynamic-management-views/system-dynamic-management-views?view=sql-server-ver16\n",
                "*/\n",
                "\n",
                "SELECT *\n",
                "FROM sys.dm_server_services;\n",
                "GO"
            ]
        },
        {
            "attachments": {},
            "cell_type": "markdown",
            "metadata": {
                "azdata_cell_guid": "66bab7d5-0281-45df-9283-e1b0c78b7f29",
                "language": "sql"
            },
            "source": [
                "### SQL Server Databases Information and Status"
            ]
        },
        {
            "cell_type": "code",
            "execution_count": null,
            "metadata": {
                "azdata_cell_guid": "e6a19911-6576-45e2-9557-3a7e6067516d",
                "language": "sql",
                "tags": []
            },
            "outputs": [],
            "source": [
                "/* Databases and their statuses\n",
                "Source: https://learn.microsoft.com/en-us/sql/relational-databases/system-compatibility-views/sys-sysdatabases-transact-sql?view=sql-server-ver16 \n",
                "*/\n",
                "\n",
                "DECLARE @status INT \n",
                "SELECT @status = status FROM sys.sysdatabases WHERE name = DB_NAME() \n",
                "PRINT DB_NAME() + ' - ' + CONVERT(VARCHAR(20),@status) \n",
                "\n",
                "IF ( (1 & @status) = 1 ) PRINT 'autoclose' \n",
                "IF ( (2 & @status) = 2 ) PRINT '2' \n",
                "IF ( (4 & @status) = 4 ) PRINT 'select into/bulkcopy' \n",
                "IF ( (8 & @status) = 8 ) PRINT 'trunc. log on chkpt' \n",
                "IF ( (16 & @status) = 16 ) PRINT 'torn page detection' \n",
                "IF ( (32 & @status) = 32 ) PRINT 'loading' \n",
                "IF ( (64 & @status) = 64 ) PRINT 'pre recovery' \n",
                "IF ( (128 & @status) = 128 ) PRINT 'recovering' \n",
                "IF ( (256 & @status) = 256 ) PRINT 'not recovered' \n",
                "IF ( (512 & @status) = 512 ) PRINT 'offline' \n",
                "IF ( (1024 & @status) = 1024 ) PRINT 'read only' \n",
                "IF ( (2048 & @status) = 2048 ) PRINT 'dbo use only' \n",
                "IF ( (4096 & @status) = 4096 ) PRINT 'single user' \n",
                "IF ( (8192 & @status) = 8192 ) PRINT '8192 not sure' \n",
                "IF ( (16384 & @status) = 16384 ) PRINT '16384 not sure' \n",
                "IF ( (32768 & @status) = 32768 ) PRINT 'emergency mode' \n",
                "IF ( (65536 & @status) = 65536 ) PRINT 'online' \n",
                "IF ( (131072 & @status) = 131072 ) PRINT '131072' \n",
                "IF ( (262144 & @status) = 262144 ) PRINT '2621442' \n",
                "IF ( (524288 & @status) = 524288 ) PRINT '524288' \n",
                "IF ( (1048576 & @status) = 1048576 ) PRINT '1048576' \n",
                "IF ( (2097152 & @status) = 2097152 ) PRINT '2097152' \n",
                "IF ( (4194304 & @status) = 4194304 ) PRINT 'autoshrink' \n",
                "IF ( (1073741824 & @status) = 1073741824 ) PRINT 'cleanly shutdown' "
            ]
        },
        {
            "attachments": {},
            "cell_type": "markdown",
            "metadata": {
                "azdata_cell_guid": "dc79c196-5717-4f12-b989-2f587662fabf",
                "language": "sql"
            },
            "source": [
                "### Database Backups Status"
            ]
        },
        {
            "cell_type": "code",
            "execution_count": null,
            "metadata": {
                "azdata_cell_guid": "09e8a7ca-7cb4-41d1-a3f3-4fafb26574c5",
                "language": "sql"
            },
            "outputs": [],
            "source": [
                "/* Check the backups before you do anything else!\n",
                "Source: https://dba.stackexchange.com/questions/150241/t-sql-query-for-date-of-last-full-backup-size-and-location\n",
                "*/\n",
                "WITH LastBackUp AS\n",
                "(\n",
                "SELECT  bs.database_name,\n",
                "        bs.backup_size,\n",
                "        bs.backup_start_date,\n",
                "        bmf.physical_device_name,\n",
                "        Position = ROW_NUMBER() OVER( PARTITION BY bs.database_name ORDER BY bs.backup_start_date DESC )\n",
                "FROM  msdb.dbo.backupmediafamily bmf\n",
                "JOIN msdb.dbo.backupmediaset bms ON bmf.media_set_id = bms.media_set_id\n",
                "JOIN msdb.dbo.backupset bs ON bms.media_set_id = bs.media_set_id\n",
                "WHERE   bs.[type] = 'D'\n",
                "AND bs.is_copy_only = 0\n",
                ")\n",
                "SELECT \n",
                "        sd.name AS [Database],\n",
                "        CAST(backup_size / 1048576 AS DECIMAL(10, 2) ) AS [BackupSizeMB],\n",
                "        backup_start_date AS [Last Full DB Backup Date],\n",
                "        physical_device_name AS [Backup File Location]\n",
                "FROM sys.databases AS sd\n",
                "LEFT JOIN LastBackUp AS lb\n",
                "    ON sd.name = lb.database_name\n",
                "    AND Position = 1\n",
                "ORDER BY [Database];"
            ]
        },
        {
            "attachments": {},
            "cell_type": "markdown",
            "metadata": {
                "azdata_cell_guid": "8ff99f03-7bb5-4acf-a52d-07387f46719b",
                "language": "sql"
            },
            "source": [
                "### SQL Server Logs"
            ]
        },
        {
            "cell_type": "code",
            "execution_count": null,
            "metadata": {
                "azdata_cell_guid": "0ef392a4-1a0d-4925-a80e-3ecc84a66c68",
                "language": "sql",
                "tags": []
            },
            "outputs": [],
            "source": [
                "/* Read Error Logs in SQL Server\n",
                "Source: https://learn.microsoft.com/en-us/troubleshoot/sql/database-engine/startup-shutdown/manage-error-log/ \n",
                "0 means current log, use higher numbers to go backwards\n",
                "*/\n",
                "EXEC sp_readerrorlog 0, 1;\n",
                "GO"
            ]
        },
        {
            "attachments": {},
            "cell_type": "markdown",
            "metadata": {
                "azdata_cell_guid": "5c4ea016-9695-4586-953c-21d718dd1574",
                "language": "sql"
            },
            "source": [
                "### SQL Server Agent Logs"
            ]
        },
        {
            "cell_type": "code",
            "execution_count": null,
            "metadata": {
                "azdata_cell_guid": "99ba2411-f164-4e04-a18c-fef2a8a76971",
                "language": "sql",
                "tags": []
            },
            "outputs": [],
            "source": [
                "/* Read Error Logs in SQL Server\n",
                "Source: https://learn.microsoft.com/en-us/troubleshoot/sql/database-engine/startup-shutdown/manage-error-log/ \n",
                "0 means current log, use higher numbers to go backwards\n",
                "*/\n",
                "EXEC sp_readerrorlog 0, 2;\n",
                "GO"
            ]
        }
    ],
    "metadata": {
        "kernelspec": {
            "display_name": "SQL",
            "language": "sql",
            "name": "SQL"
        },
        "language_info": {
            "name": "sql",
            "version": ""
        }
    },
    "nbformat": 4,
    "nbformat_minor": 2
}
