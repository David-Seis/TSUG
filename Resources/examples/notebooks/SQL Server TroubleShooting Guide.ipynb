{
    "metadata": {
        "kernelspec": {
            "name": "SQL",
            "display_name": "SQL",
            "language": "sql"
        },
        "language_info": {
            "name": "sql",
            "version": ""
        }
    },
    "nbformat_minor": 2,
    "nbformat": 4,
    "cells": [
        {
            "cell_type": "markdown",
            "source": [
                "# SQL Server Troubleshooting Guide\n",
                "\n",
                "## Tampa Bay SQL Server User Group (TSUG)\n",
                "\n",
                "Last Updated 10 March 2023"
            ],
            "metadata": {
                "azdata_cell_guid": "6e44eadc-d07b-4423-aaf9-904299a0fd47"
            },
            "attachments": {}
        },
        {
            "cell_type": "markdown",
            "source": [
                "### Troubleshooting Process and Other Resources\n",
                "\n",
                "[General troubleshooting process steps from Cisco](https://www.ciscopress.com/articles/article.asp?p=2999386&seqNum=5%5D(https://www.ciscopress.com/articles/article.asp?p=2999386&seqNum=5)\n",
                "\n",
                "- Step 1. Identify the symptoms of the problem - locate the users/systems affected, is it all or some.\n",
                "    \n",
                "- Step 2. Establish a theory of probable cause.\n",
                "    \n",
                "- Step 3. Investigate the theory to determine the cause.\n",
                "    \n",
                "- Step 4. Establish a plan of action to resolve the problem and implement the solution.\n",
                "    \n",
                "- Step 5. Verify full system functionality and notify users, and if applicable, implement preventive measures.\n",
                "    \n",
                "- Step 6. Document findings, actions, and outcomes.\n",
                "    \n",
                "    #### Other Sources:\n",
                "    \n",
                "- [Visual Studio Code/Azure Data Studio add-in at this location with additional diagnostic Notebooks](https://github.com/EmanueleMeazzo/tsql.tech-Code-snippets/releases/tag/v1.0)\n",
                "    \n",
                "- [Microsoft Documentation on SQL Server Troubleshooting](https://learn.microsoft.com/en-us/troubleshoot/sql/welcome-sql-server),[General troubleshooting process steps from Cisco](https://www.ciscopress.com/articles/article.asp?p=2999386&seqNum=5%5D(https://www.ciscopress.com/articles/article.asp?p=2999386&seqNum=5)"
            ],
            "metadata": {
                "azdata_cell_guid": "21461f05-61b6-49a9-94ec-e1d9687b195d"
            },
            "attachments": {}
        },
        {
            "cell_type": "markdown",
            "source": [
                "### Connection Issues\n",
                "\n",
                "_(Source- [https://learn.microsoft.com/en-us/troubleshoot/sql/database-engine/connect/resolve-connectivity-errors-overview](https://learn.microsoft.com/en-us/troubleshoot/sql/database-engine/connect/resolve-connectivity-errors-overview))_\n",
                "\n",
                "The above article is the best place to start for connection issues. This section uses tools and processes defined in that documentation as of 10 February 2023"
            ],
            "metadata": {
                "azdata_cell_guid": "3d2026ae-5d71-4da9-9d30-5c9231ea7ec9"
            },
            "attachments": {}
        },
        {
            "cell_type": "code",
            "source": [
                "/* \n",
                "1. Ping the server's name, then IP address \n",
                "ping localhost\n",
                "ping 127.0.0.1\n",
                "*/\n",
                "\n",
                "/* \n",
                "2. Check using UDL Files: \n",
                "https://learn.microsoft.com/en-us/troubleshoot/sql/database-engine/connect/test-oledb-connectivity-use-udl-file \n",
                "*/\n",
                "\n",
                "/*\n",
                "3. Download the PortQry and PortQueryUI tools:\n",
                "https://www.microsoft.com/en-us/download/details.aspx?id=17148\n",
                "https://www.microsoft.com/en-us/download/details.aspx?id=24009 \n",
                "Use: \n",
                "https://learn.microsoft.com/en-us/troubleshoot/sql/database-engine/connect/using-portqrytool-sqlserver\n",
                "*/\n",
                ""
            ],
            "metadata": {
                "azdata_cell_guid": "1c874af6-d16a-472f-946d-a0c02384909c",
                "language": "sql"
            },
            "outputs": [],
            "execution_count": null
        },
        {
            "cell_type": "markdown",
            "source": [
                "### SQL Server Instance Information and Status"
            ],
            "metadata": {
                "azdata_cell_guid": "b6ec41c7-994f-48e2-bbfd-7840d43651f3"
            },
            "attachments": {}
        },
        {
            "cell_type": "code",
            "source": [
                "/* Find running services on the server \n",
                "Source: https://learn.microsoft.com/en-us/sql/relational-databases/system-dynamic-management-views/system-dynamic-management-views?view=sql-server-ver16\n",
                "*/\n",
                "\n",
                "SELECT *\n",
                "FROM sys.dm_server_services;\n",
                "GO"
            ],
            "metadata": {
                "azdata_cell_guid": "75fea9d8-8d79-464b-998e-29a5ff947b38",
                "language": "sql",
                "tags": []
            },
            "outputs": [
                {
                    "output_type": "display_data",
                    "data": {
                        "text/html": "(4 rows affected)"
                    },
                    "metadata": {}
                },
                {
                    "output_type": "display_data",
                    "data": {
                        "text/html": "Total execution time: 00:00:00.109"
                    },
                    "metadata": {}
                },
                {
                    "output_type": "execute_result",
                    "metadata": {},
                    "execution_count": 1,
                    "data": {
                        "application/vnd.dataresource+json": {
                            "schema": {
                                "fields": [
                                    {
                                        "name": "servicename"
                                    },
                                    {
                                        "name": "startup_type"
                                    },
                                    {
                                        "name": "startup_type_desc"
                                    },
                                    {
                                        "name": "status"
                                    },
                                    {
                                        "name": "status_desc"
                                    },
                                    {
                                        "name": "process_id"
                                    },
                                    {
                                        "name": "last_startup_time"
                                    },
                                    {
                                        "name": "service_account"
                                    },
                                    {
                                        "name": "filename"
                                    },
                                    {
                                        "name": "is_clustered"
                                    },
                                    {
                                        "name": "cluster_nodename"
                                    },
                                    {
                                        "name": "instant_file_initialization_enabled"
                                    }
                                ]
                            },
                            "data": [
                                {
                                    "0": "SQL Server (MSSQLSERVER)",
                                    "1": "2",
                                    "2": "Automatic",
                                    "3": "4",
                                    "4": "Running",
                                    "5": "4816",
                                    "6": "2023-02-21 16:41:35.7494917 -05:00",
                                    "7": "NT Service\\MSSQLSERVER",
                                    "8": "\"C:\\Program Files\\Microsoft SQL Server\\MSSQL16.MSSQLSERVER\\MSSQL\\Binn\\sqlservr.exe\" -sMSSQLSERVER",
                                    "9": "N",
                                    "10": "NULL",
                                    "11": "Y"
                                },
                                {
                                    "0": "SQL Server Agent (MSSQLSERVER)",
                                    "1": "2",
                                    "2": "Automatic",
                                    "3": "4",
                                    "4": "Running",
                                    "5": "10348",
                                    "6": "NULL",
                                    "7": "NT Service\\SQLSERVERAGENT",
                                    "8": "\"C:\\Program Files\\Microsoft SQL Server\\MSSQL16.MSSQLSERVER\\MSSQL\\Binn\\SQLAGENT.EXE\" -i MSSQLSERVER",
                                    "9": "N",
                                    "10": "NULL",
                                    "11": "N"
                                },
                                {
                                    "0": "SQL Full-text Filter Daemon Launcher (MSSQLSERVER)",
                                    "1": "3",
                                    "2": "Manual",
                                    "3": "4",
                                    "4": "Running",
                                    "5": "5912",
                                    "6": "NULL",
                                    "7": "NT Service\\MSSQLFDLauncher",
                                    "8": "\"C:\\Program Files\\Microsoft SQL Server\\MSSQL16.MSSQLSERVER\\MSSQL\\Binn\\fdlauncher.exe\" -s MSSQL16.MSSQLSERVER",
                                    "9": "N",
                                    "10": "NULL",
                                    "11": "N"
                                },
                                {
                                    "0": "SQL Server Launchpad (MSSQLSERVER)",
                                    "1": "2",
                                    "2": "Automatic",
                                    "3": "4",
                                    "4": "Running",
                                    "5": "9396",
                                    "6": "NULL",
                                    "7": "NT Service\\MSSQLLaunchpad",
                                    "8": "\"C:\\Program Files\\Microsoft SQL Server\\MSSQL16.MSSQLSERVER\\MSSQL\\Binn\\launchpad.exe\" -launcher RLauncher.dll -launcher Pythonlauncher.dll -launcher commonlauncher.dll -pipename sqlsatellitelaunch -timeout 600000 -logPath \"C:\\Program Files\\Microsoft SQL Ser",
                                    "9": "N",
                                    "10": "NULL",
                                    "11": "N"
                                }
                            ]
                        },
                        "text/html": [
                            "<table>",
                            "<tr><th>servicename</th><th>startup_type</th><th>startup_type_desc</th><th>status</th><th>status_desc</th><th>process_id</th><th>last_startup_time</th><th>service_account</th><th>filename</th><th>is_clustered</th><th>cluster_nodename</th><th>instant_file_initialization_enabled</th></tr>",
                            "<tr><td>SQL Server (MSSQLSERVER)</td><td>2</td><td>Automatic</td><td>4</td><td>Running</td><td>4816</td><td>2023-02-21 16:41:35.7494917 -05:00</td><td>NT Service\\MSSQLSERVER</td><td>&quot;C:\\Program Files\\Microsoft SQL Server\\MSSQL16.MSSQLSERVER\\MSSQL\\Binn\\sqlservr.exe&quot; -sMSSQLSERVER</td><td>N</td><td>NULL</td><td>Y</td></tr>",
                            "<tr><td>SQL Server Agent (MSSQLSERVER)</td><td>2</td><td>Automatic</td><td>4</td><td>Running</td><td>10348</td><td>NULL</td><td>NT Service\\SQLSERVERAGENT</td><td>&quot;C:\\Program Files\\Microsoft SQL Server\\MSSQL16.MSSQLSERVER\\MSSQL\\Binn\\SQLAGENT.EXE&quot; -i MSSQLSERVER</td><td>N</td><td>NULL</td><td>N</td></tr>",
                            "<tr><td>SQL Full-text Filter Daemon Launcher (MSSQLSERVER)</td><td>3</td><td>Manual</td><td>4</td><td>Running</td><td>5912</td><td>NULL</td><td>NT Service\\MSSQLFDLauncher</td><td>&quot;C:\\Program Files\\Microsoft SQL Server\\MSSQL16.MSSQLSERVER\\MSSQL\\Binn\\fdlauncher.exe&quot; -s MSSQL16.MSSQLSERVER</td><td>N</td><td>NULL</td><td>N</td></tr>",
                            "<tr><td>SQL Server Launchpad (MSSQLSERVER)</td><td>2</td><td>Automatic</td><td>4</td><td>Running</td><td>9396</td><td>NULL</td><td>NT Service\\MSSQLLaunchpad</td><td>&quot;C:\\Program Files\\Microsoft SQL Server\\MSSQL16.MSSQLSERVER\\MSSQL\\Binn\\launchpad.exe&quot; -launcher RLauncher.dll -launcher Pythonlauncher.dll -launcher commonlauncher.dll -pipename sqlsatellitelaunch -timeout 600000 -logPath &quot;C:\\Program Files\\Microsoft SQL Ser</td><td>N</td><td>NULL</td><td>N</td></tr>",
                            "</table>"
                        ]
                    }
                }
            ],
            "execution_count": 1
        },
        {
            "cell_type": "markdown",
            "source": [
                "### SQL Server Databases Information and Status"
            ],
            "metadata": {
                "azdata_cell_guid": "66bab7d5-0281-45df-9283-e1b0c78b7f29",
                "language": "sql"
            },
            "attachments": {}
        },
        {
            "cell_type": "code",
            "source": [
                "/* Databases and their statuses\n",
                "Source: https://learn.microsoft.com/en-us/sql/relational-databases/system-catalog-views/sys-databases-transact-sql?view=sql-server-ver16 \n",
                "*/\n",
                "SELECT name\n",
                ", state_desc AS 'Status'\n",
                ", user_access_desc\n",
                ", compatibility_level\n",
                ", create_date\n",
                ", is_in_standby\n",
                ", is_cleanly_shutdown\n",
                ", recovery_model_desc\n",
                ", is_encrypted\n",
                "\n",
                "\n",
                "FROM sys.databases;\n",
                "GO\n"
            ],
            "metadata": {
                "azdata_cell_guid": "e6a19911-6576-45e2-9557-3a7e6067516d",
                "language": "sql",
                "tags": [
                    "hide_input"
                ]
            },
            "outputs": [
                {
                    "output_type": "display_data",
                    "data": {
                        "text/html": "(16 rows affected)"
                    },
                    "metadata": {}
                },
                {
                    "output_type": "display_data",
                    "data": {
                        "text/html": "Total execution time: 00:00:00.017"
                    },
                    "metadata": {}
                },
                {
                    "output_type": "execute_result",
                    "metadata": {},
                    "execution_count": 3,
                    "data": {
                        "application/vnd.dataresource+json": {
                            "schema": {
                                "fields": [
                                    {
                                        "name": "name"
                                    },
                                    {
                                        "name": "Status"
                                    },
                                    {
                                        "name": "user_access_desc"
                                    },
                                    {
                                        "name": "compatibility_level"
                                    },
                                    {
                                        "name": "create_date"
                                    },
                                    {
                                        "name": "is_in_standby"
                                    },
                                    {
                                        "name": "is_cleanly_shutdown"
                                    },
                                    {
                                        "name": "recovery_model_desc"
                                    },
                                    {
                                        "name": "is_encrypted"
                                    }
                                ]
                            },
                            "data": [
                                {
                                    "0": "master",
                                    "1": "ONLINE",
                                    "2": "MULTI_USER",
                                    "3": "160",
                                    "4": "2003-04-08 09:13:36.390",
                                    "5": "0",
                                    "6": "0",
                                    "7": "SIMPLE",
                                    "8": "0"
                                },
                                {
                                    "0": "tempdb",
                                    "1": "ONLINE",
                                    "2": "MULTI_USER",
                                    "3": "160",
                                    "4": "2023-02-21 16:42:12.137",
                                    "5": "0",
                                    "6": "0",
                                    "7": "SIMPLE",
                                    "8": "0"
                                },
                                {
                                    "0": "model",
                                    "1": "ONLINE",
                                    "2": "MULTI_USER",
                                    "3": "160",
                                    "4": "2003-04-08 09:13:36.390",
                                    "5": "0",
                                    "6": "0",
                                    "7": "FULL",
                                    "8": "0"
                                },
                                {
                                    "0": "msdb",
                                    "1": "ONLINE",
                                    "2": "MULTI_USER",
                                    "3": "160",
                                    "4": "2022-10-08 06:31:57.550",
                                    "5": "0",
                                    "6": "0",
                                    "7": "SIMPLE",
                                    "8": "0"
                                },
                                {
                                    "0": "DWDiagnostics",
                                    "1": "ONLINE",
                                    "2": "MULTI_USER",
                                    "3": "160",
                                    "4": "2023-02-03 10:21:33.780",
                                    "5": "0",
                                    "6": "0",
                                    "7": "SIMPLE",
                                    "8": "0"
                                },
                                {
                                    "0": "DWConfiguration",
                                    "1": "ONLINE",
                                    "2": "MULTI_USER",
                                    "3": "160",
                                    "4": "2023-02-03 10:21:35.470",
                                    "5": "0",
                                    "6": "0",
                                    "7": "FULL",
                                    "8": "0"
                                },
                                {
                                    "0": "DWQueue",
                                    "1": "ONLINE",
                                    "2": "MULTI_USER",
                                    "3": "160",
                                    "4": "2023-02-03 10:21:36.343",
                                    "5": "0",
                                    "6": "0",
                                    "7": "SIMPLE",
                                    "8": "0"
                                },
                                {
                                    "0": "AdventureWorks",
                                    "1": "ONLINE",
                                    "2": "MULTI_USER",
                                    "3": "140",
                                    "4": "2023-02-06 07:34:01.757",
                                    "5": "0",
                                    "6": "0",
                                    "7": "SIMPLE",
                                    "8": "0"
                                },
                                {
                                    "0": "AdventureWorksDW",
                                    "1": "ONLINE",
                                    "2": "MULTI_USER",
                                    "3": "140",
                                    "4": "2023-02-06 07:34:22.767",
                                    "5": "0",
                                    "6": "0",
                                    "7": "SIMPLE",
                                    "8": "0"
                                },
                                {
                                    "0": "AdventureWorksLT",
                                    "1": "ONLINE",
                                    "2": "MULTI_USER",
                                    "3": "110",
                                    "4": "2023-02-06 07:34:45.593",
                                    "5": "0",
                                    "6": "0",
                                    "7": "SIMPLE",
                                    "8": "0"
                                },
                                {
                                    "0": "ContosoEngineering",
                                    "1": "ONLINE",
                                    "2": "MULTI_USER",
                                    "3": "140",
                                    "4": "2023-02-06 07:35:08.113",
                                    "5": "0",
                                    "6": "0",
                                    "7": "FULL",
                                    "8": "0"
                                },
                                {
                                    "0": "Analysis",
                                    "1": "ONLINE",
                                    "2": "MULTI_USER",
                                    "3": "130",
                                    "4": "2023-02-06 07:36:02.250",
                                    "5": "0",
                                    "6": "0",
                                    "7": "SIMPLE",
                                    "8": "0"
                                },
                                {
                                    "0": "WideWorldImportersDW",
                                    "1": "ONLINE",
                                    "2": "MULTI_USER",
                                    "3": "150",
                                    "4": "2023-02-06 07:36:24.733",
                                    "5": "0",
                                    "6": "0",
                                    "7": "SIMPLE",
                                    "8": "0"
                                },
                                {
                                    "0": "WideWorldImporters",
                                    "1": "ONLINE",
                                    "2": "MULTI_USER",
                                    "3": "130",
                                    "4": "2023-02-06 07:38:02.400",
                                    "5": "0",
                                    "6": "0",
                                    "7": "SIMPLE",
                                    "8": "0"
                                },
                                {
                                    "0": "Northwind",
                                    "1": "ONLINE",
                                    "2": "MULTI_USER",
                                    "3": "160",
                                    "4": "2023-02-06 07:38:35.697",
                                    "5": "0",
                                    "6": "0",
                                    "7": "SIMPLE",
                                    "8": "0"
                                },
                                {
                                    "0": "pubs",
                                    "1": "ONLINE",
                                    "2": "MULTI_USER",
                                    "3": "160",
                                    "4": "2023-02-06 07:38:57.010",
                                    "5": "0",
                                    "6": "0",
                                    "7": "SIMPLE",
                                    "8": "0"
                                }
                            ]
                        },
                        "text/html": [
                            "<table>",
                            "<tr><th>name</th><th>Status</th><th>user_access_desc</th><th>compatibility_level</th><th>create_date</th><th>is_in_standby</th><th>is_cleanly_shutdown</th><th>recovery_model_desc</th><th>is_encrypted</th></tr>",
                            "<tr><td>master</td><td>ONLINE</td><td>MULTI_USER</td><td>160</td><td>2003-04-08 09:13:36.390</td><td>0</td><td>0</td><td>SIMPLE</td><td>0</td></tr>",
                            "<tr><td>tempdb</td><td>ONLINE</td><td>MULTI_USER</td><td>160</td><td>2023-02-21 16:42:12.137</td><td>0</td><td>0</td><td>SIMPLE</td><td>0</td></tr>",
                            "<tr><td>model</td><td>ONLINE</td><td>MULTI_USER</td><td>160</td><td>2003-04-08 09:13:36.390</td><td>0</td><td>0</td><td>FULL</td><td>0</td></tr>",
                            "<tr><td>msdb</td><td>ONLINE</td><td>MULTI_USER</td><td>160</td><td>2022-10-08 06:31:57.550</td><td>0</td><td>0</td><td>SIMPLE</td><td>0</td></tr>",
                            "<tr><td>DWDiagnostics</td><td>ONLINE</td><td>MULTI_USER</td><td>160</td><td>2023-02-03 10:21:33.780</td><td>0</td><td>0</td><td>SIMPLE</td><td>0</td></tr>",
                            "<tr><td>DWConfiguration</td><td>ONLINE</td><td>MULTI_USER</td><td>160</td><td>2023-02-03 10:21:35.470</td><td>0</td><td>0</td><td>FULL</td><td>0</td></tr>",
                            "<tr><td>DWQueue</td><td>ONLINE</td><td>MULTI_USER</td><td>160</td><td>2023-02-03 10:21:36.343</td><td>0</td><td>0</td><td>SIMPLE</td><td>0</td></tr>",
                            "<tr><td>AdventureWorks</td><td>ONLINE</td><td>MULTI_USER</td><td>140</td><td>2023-02-06 07:34:01.757</td><td>0</td><td>0</td><td>SIMPLE</td><td>0</td></tr>",
                            "<tr><td>AdventureWorksDW</td><td>ONLINE</td><td>MULTI_USER</td><td>140</td><td>2023-02-06 07:34:22.767</td><td>0</td><td>0</td><td>SIMPLE</td><td>0</td></tr>",
                            "<tr><td>AdventureWorksLT</td><td>ONLINE</td><td>MULTI_USER</td><td>110</td><td>2023-02-06 07:34:45.593</td><td>0</td><td>0</td><td>SIMPLE</td><td>0</td></tr>",
                            "<tr><td>ContosoEngineering</td><td>ONLINE</td><td>MULTI_USER</td><td>140</td><td>2023-02-06 07:35:08.113</td><td>0</td><td>0</td><td>FULL</td><td>0</td></tr>",
                            "<tr><td>Analysis</td><td>ONLINE</td><td>MULTI_USER</td><td>130</td><td>2023-02-06 07:36:02.250</td><td>0</td><td>0</td><td>SIMPLE</td><td>0</td></tr>",
                            "<tr><td>WideWorldImportersDW</td><td>ONLINE</td><td>MULTI_USER</td><td>150</td><td>2023-02-06 07:36:24.733</td><td>0</td><td>0</td><td>SIMPLE</td><td>0</td></tr>",
                            "<tr><td>WideWorldImporters</td><td>ONLINE</td><td>MULTI_USER</td><td>130</td><td>2023-02-06 07:38:02.400</td><td>0</td><td>0</td><td>SIMPLE</td><td>0</td></tr>",
                            "<tr><td>Northwind</td><td>ONLINE</td><td>MULTI_USER</td><td>160</td><td>2023-02-06 07:38:35.697</td><td>0</td><td>0</td><td>SIMPLE</td><td>0</td></tr>",
                            "<tr><td>pubs</td><td>ONLINE</td><td>MULTI_USER</td><td>160</td><td>2023-02-06 07:38:57.010</td><td>0</td><td>0</td><td>SIMPLE</td><td>0</td></tr>",
                            "</table>"
                        ]
                    }
                }
            ],
            "execution_count": 3
        },
        {
            "cell_type": "markdown",
            "source": [
                "### Database Backups Status"
            ],
            "metadata": {
                "azdata_cell_guid": "dc79c196-5717-4f12-b989-2f587662fabf",
                "language": "sql"
            },
            "attachments": {}
        },
        {
            "cell_type": "code",
            "source": [
                "/* Check the backups before you do anything else!\n",
                "Source: https://dba.stackexchange.com/questions/150241/t-sql-query-for-date-of-last-full-backup-size-and-location\n",
                "*/\n",
                "WITH LastBackUp AS\n",
                "(\n",
                "SELECT  bs.database_name,\n",
                "        bs.backup_size,\n",
                "        bs.backup_start_date,\n",
                "        bmf.physical_device_name,\n",
                "        Position = ROW_NUMBER() OVER( PARTITION BY bs.database_name ORDER BY bs.backup_start_date DESC )\n",
                "FROM  msdb.dbo.backupmediafamily bmf\n",
                "JOIN msdb.dbo.backupmediaset bms ON bmf.media_set_id = bms.media_set_id\n",
                "JOIN msdb.dbo.backupset bs ON bms.media_set_id = bs.media_set_id\n",
                "WHERE   bs.[type] = 'D'\n",
                "AND bs.is_copy_only = 0\n",
                ")\n",
                "SELECT \n",
                "        sd.name AS [Database],\n",
                "        CAST(backup_size / 1048576 AS DECIMAL(10, 2) ) AS [BackupSizeMB],\n",
                "        backup_start_date AS [Last Full DB Backup Date],\n",
                "        physical_device_name AS [Backup File Location]\n",
                "FROM sys.databases AS sd\n",
                "LEFT JOIN LastBackUp AS lb\n",
                "    ON sd.name = lb.database_name\n",
                "    AND Position = 1\n",
                "ORDER BY [Database];"
            ],
            "metadata": {
                "azdata_cell_guid": "09e8a7ca-7cb4-41d1-a3f3-4fafb26574c5",
                "language": "sql"
            },
            "outputs": [
                {
                    "output_type": "display_data",
                    "data": {
                        "text/html": "(16 rows affected)"
                    },
                    "metadata": {}
                },
                {
                    "output_type": "display_data",
                    "data": {
                        "text/html": "Total execution time: 00:00:00.153"
                    },
                    "metadata": {}
                },
                {
                    "output_type": "execute_result",
                    "metadata": {},
                    "execution_count": 4,
                    "data": {
                        "application/vnd.dataresource+json": {
                            "schema": {
                                "fields": [
                                    {
                                        "name": "Database"
                                    },
                                    {
                                        "name": "BackupSizeMB"
                                    },
                                    {
                                        "name": "Last Full DB Backup Date"
                                    },
                                    {
                                        "name": "Backup File Location"
                                    }
                                ]
                            },
                            "data": [
                                {
                                    "0": "AdventureWorks",
                                    "1": "208.09",
                                    "2": "2023-02-06 07:45:29.000",
                                    "3": "C:\\Program Files\\Microsoft SQL Server\\MSSQL16.MSSQLSERVER\\MSSQL\\Backup\\AdventureWorks_backup_2023_02_06_074528_8868312.bak"
                                },
                                {
                                    "0": "AdventureWorksDW",
                                    "1": "97.09",
                                    "2": "2023-02-06 07:45:29.000",
                                    "3": "C:\\Program Files\\Microsoft SQL Server\\MSSQL16.MSSQLSERVER\\MSSQL\\Backup\\AdventureWorksDW_backup_2023_02_06_074528_8868312.bak"
                                },
                                {
                                    "0": "AdventureWorksLT",
                                    "1": "8.09",
                                    "2": "2023-02-06 07:45:30.000",
                                    "3": "C:\\Program Files\\Microsoft SQL Server\\MSSQL16.MSSQLSERVER\\MSSQL\\Backup\\AdventureWorksLT_backup_2023_02_06_074528_8868312.bak"
                                },
                                {
                                    "0": "Analysis",
                                    "1": "289.09",
                                    "2": "2023-02-06 07:45:30.000",
                                    "3": "C:\\Program Files\\Microsoft SQL Server\\MSSQL16.MSSQLSERVER\\MSSQL\\Backup\\Analysis_backup_2023_02_06_074528_8868312.bak"
                                },
                                {
                                    "0": "ContosoEngineering",
                                    "1": "50.11",
                                    "2": "2023-02-06 07:45:30.000",
                                    "3": "C:\\Program Files\\Microsoft SQL Server\\MSSQL16.MSSQLSERVER\\MSSQL\\Backup\\ContosoEngineering_backup_2023_02_06_074528_8868312.bak"
                                },
                                {
                                    "0": "DWConfiguration",
                                    "1": "6.71",
                                    "2": "2023-02-06 07:45:29.000",
                                    "3": "C:\\Program Files\\Microsoft SQL Server\\MSSQL16.MSSQLSERVER\\MSSQL\\Backup\\DWConfiguration_backup_2023_02_06_074528_8868312.bak"
                                },
                                {
                                    "0": "DWDiagnostics",
                                    "1": "12.09",
                                    "2": "2023-02-06 07:45:28.000",
                                    "3": "C:\\Program Files\\Microsoft SQL Server\\MSSQL16.MSSQLSERVER\\MSSQL\\Backup\\DWDiagnostics_backup_2023_02_06_074528_8868312.bak"
                                },
                                {
                                    "0": "DWQueue",
                                    "1": "4.90",
                                    "2": "2023-02-06 07:45:29.000",
                                    "3": "C:\\Program Files\\Microsoft SQL Server\\MSSQL16.MSSQLSERVER\\MSSQL\\Backup\\DWQueue_backup_2023_02_06_074528_8868312.bak"
                                },
                                {
                                    "0": "master",
                                    "1": "NULL",
                                    "2": "NULL",
                                    "3": "NULL"
                                },
                                {
                                    "0": "model",
                                    "1": "NULL",
                                    "2": "NULL",
                                    "3": "NULL"
                                },
                                {
                                    "0": "msdb",
                                    "1": "NULL",
                                    "2": "NULL",
                                    "3": "NULL"
                                },
                                {
                                    "0": "Northwind",
                                    "1": "7.71",
                                    "2": "2023-02-06 07:45:34.000",
                                    "3": "C:\\Program Files\\Microsoft SQL Server\\MSSQL16.MSSQLSERVER\\MSSQL\\Backup\\Northwind_backup_2023_02_06_074528_8868312.bak"
                                },
                                {
                                    "0": "pubs",
                                    "1": "5.46",
                                    "2": "2023-02-06 07:45:34.000",
                                    "3": "C:\\Program Files\\Microsoft SQL Server\\MSSQL16.MSSQLSERVER\\MSSQL\\Backup\\pubs_backup_2023_02_06_074528_8868312.bak"
                                },
                                {
                                    "0": "tempdb",
                                    "1": "NULL",
                                    "2": "NULL",
                                    "3": "NULL"
                                },
                                {
                                    "0": "WideWorldImporters",
                                    "1": "421.23",
                                    "2": "2023-02-06 07:45:32.000",
                                    "3": "C:\\Program Files\\Microsoft SQL Server\\MSSQL16.MSSQLSERVER\\MSSQL\\Backup\\WideWorldImporters_backup_2023_02_06_074528_8868312.bak"
                                },
                                {
                                    "0": "WideWorldImportersDW",
                                    "1": "282.29",
                                    "2": "2023-02-06 07:45:31.000",
                                    "3": "C:\\Program Files\\Microsoft SQL Server\\MSSQL16.MSSQLSERVER\\MSSQL\\Backup\\WideWorldImportersDW_backup_2023_02_06_074528_8868312.bak"
                                }
                            ]
                        },
                        "text/html": [
                            "<table>",
                            "<tr><th>Database</th><th>BackupSizeMB</th><th>Last Full DB Backup Date</th><th>Backup File Location</th></tr>",
                            "<tr><td>AdventureWorks</td><td>208.09</td><td>2023-02-06 07:45:29.000</td><td>C:\\Program Files\\Microsoft SQL Server\\MSSQL16.MSSQLSERVER\\MSSQL\\Backup\\AdventureWorks_backup_2023_02_06_074528_8868312.bak</td></tr>",
                            "<tr><td>AdventureWorksDW</td><td>97.09</td><td>2023-02-06 07:45:29.000</td><td>C:\\Program Files\\Microsoft SQL Server\\MSSQL16.MSSQLSERVER\\MSSQL\\Backup\\AdventureWorksDW_backup_2023_02_06_074528_8868312.bak</td></tr>",
                            "<tr><td>AdventureWorksLT</td><td>8.09</td><td>2023-02-06 07:45:30.000</td><td>C:\\Program Files\\Microsoft SQL Server\\MSSQL16.MSSQLSERVER\\MSSQL\\Backup\\AdventureWorksLT_backup_2023_02_06_074528_8868312.bak</td></tr>",
                            "<tr><td>Analysis</td><td>289.09</td><td>2023-02-06 07:45:30.000</td><td>C:\\Program Files\\Microsoft SQL Server\\MSSQL16.MSSQLSERVER\\MSSQL\\Backup\\Analysis_backup_2023_02_06_074528_8868312.bak</td></tr>",
                            "<tr><td>ContosoEngineering</td><td>50.11</td><td>2023-02-06 07:45:30.000</td><td>C:\\Program Files\\Microsoft SQL Server\\MSSQL16.MSSQLSERVER\\MSSQL\\Backup\\ContosoEngineering_backup_2023_02_06_074528_8868312.bak</td></tr>",
                            "<tr><td>DWConfiguration</td><td>6.71</td><td>2023-02-06 07:45:29.000</td><td>C:\\Program Files\\Microsoft SQL Server\\MSSQL16.MSSQLSERVER\\MSSQL\\Backup\\DWConfiguration_backup_2023_02_06_074528_8868312.bak</td></tr>",
                            "<tr><td>DWDiagnostics</td><td>12.09</td><td>2023-02-06 07:45:28.000</td><td>C:\\Program Files\\Microsoft SQL Server\\MSSQL16.MSSQLSERVER\\MSSQL\\Backup\\DWDiagnostics_backup_2023_02_06_074528_8868312.bak</td></tr>",
                            "<tr><td>DWQueue</td><td>4.90</td><td>2023-02-06 07:45:29.000</td><td>C:\\Program Files\\Microsoft SQL Server\\MSSQL16.MSSQLSERVER\\MSSQL\\Backup\\DWQueue_backup_2023_02_06_074528_8868312.bak</td></tr>",
                            "<tr><td>master</td><td>NULL</td><td>NULL</td><td>NULL</td></tr>",
                            "<tr><td>model</td><td>NULL</td><td>NULL</td><td>NULL</td></tr>",
                            "<tr><td>msdb</td><td>NULL</td><td>NULL</td><td>NULL</td></tr>",
                            "<tr><td>Northwind</td><td>7.71</td><td>2023-02-06 07:45:34.000</td><td>C:\\Program Files\\Microsoft SQL Server\\MSSQL16.MSSQLSERVER\\MSSQL\\Backup\\Northwind_backup_2023_02_06_074528_8868312.bak</td></tr>",
                            "<tr><td>pubs</td><td>5.46</td><td>2023-02-06 07:45:34.000</td><td>C:\\Program Files\\Microsoft SQL Server\\MSSQL16.MSSQLSERVER\\MSSQL\\Backup\\pubs_backup_2023_02_06_074528_8868312.bak</td></tr>",
                            "<tr><td>tempdb</td><td>NULL</td><td>NULL</td><td>NULL</td></tr>",
                            "<tr><td>WideWorldImporters</td><td>421.23</td><td>2023-02-06 07:45:32.000</td><td>C:\\Program Files\\Microsoft SQL Server\\MSSQL16.MSSQLSERVER\\MSSQL\\Backup\\WideWorldImporters_backup_2023_02_06_074528_8868312.bak</td></tr>",
                            "<tr><td>WideWorldImportersDW</td><td>282.29</td><td>2023-02-06 07:45:31.000</td><td>C:\\Program Files\\Microsoft SQL Server\\MSSQL16.MSSQLSERVER\\MSSQL\\Backup\\WideWorldImportersDW_backup_2023_02_06_074528_8868312.bak</td></tr>",
                            "</table>"
                        ]
                    }
                }
            ],
            "execution_count": 4
        },
        {
            "cell_type": "markdown",
            "source": [
                "### SQL Server Logs"
            ],
            "metadata": {
                "azdata_cell_guid": "8ff99f03-7bb5-4acf-a52d-07387f46719b",
                "language": "sql"
            },
            "attachments": {}
        },
        {
            "cell_type": "code",
            "source": [
                "/* Read Error Logs in SQL Server\n",
                "Source: https://learn.microsoft.com/en-us/troubleshoot/sql/database-engine/startup-shutdown/manage-error-log/ \n",
                "0 means current log, use higher numbers to go backwards\n",
                "Default Location: \n",
                "C:\\Program Files\\Microsoft SQL Server\\MSSQL16.MSSQLSERVER\\MSSQL\\Log\n",
                "These are text files, starting with the latest one\n",
                "*/\n",
                "EXEC sp_readerrorlog 0, 1;\n",
                "GO"
            ],
            "metadata": {
                "azdata_cell_guid": "0ef392a4-1a0d-4925-a80e-3ecc84a66c68",
                "language": "sql",
                "tags": []
            },
            "outputs": [],
            "execution_count": null
        },
        {
            "cell_type": "markdown",
            "source": [
                "### SQL Server Agent Logs"
            ],
            "metadata": {
                "azdata_cell_guid": "5c4ea016-9695-4586-953c-21d718dd1574",
                "language": "sql"
            },
            "attachments": {}
        },
        {
            "cell_type": "code",
            "source": [
                "/* Read Error Logs in SQL Server\n",
                "Source: https://learn.microsoft.com/en-us/troubleshoot/sql/database-engine/startup-shutdown/manage-error-log/ \n",
                "0 means current log, use higher numbers to go backwards\n",
                "*/\n",
                "EXEC sp_readerrorlog 0, 2;\n",
                "GO"
            ],
            "metadata": {
                "azdata_cell_guid": "99ba2411-f164-4e04-a18c-fef2a8a76971",
                "language": "sql",
                "tags": []
            },
            "outputs": [],
            "execution_count": null
        }
    ]
}